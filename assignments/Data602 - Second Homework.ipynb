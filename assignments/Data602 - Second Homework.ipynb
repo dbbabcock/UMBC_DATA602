{
 "cells": [
  {
   "cell_type": "markdown",
   "metadata": {},
   "source": [
    "# Overview \n",
    "\n",
    "In this project you will be putting be applying the skills you learned in the class so far. More specifically, you will be asked to apply an unsupervised learning techniques that you learned in the last two weeks.\n",
    "\n",
    "\n",
    "# Deadlines\n",
    "\n",
    "1. Ask any dataset-related questions by COB (Close of Business) October 20th.\n",
    "\n",
    "2. Submit the completed deliverables at the beginning of class on November 3rd (Week-10) at 4:30 PM.\n",
    "\n",
    "# Other Details\n",
    "\n",
    "Other details will be announced soon.\n"
   ]
  }
 ],
 "metadata": {
  "kernelspec": {
   "display_name": "Python 3",
   "language": "python",
   "name": "python3"
  },
  "language_info": {
   "codemirror_mode": {
    "name": "ipython",
    "version": 3
   },
   "file_extension": ".py",
   "mimetype": "text/x-python",
   "name": "python",
   "nbconvert_exporter": "python",
   "pygments_lexer": "ipython3",
   "version": "3.8.3"
  },
  "toc": {
   "base_numbering": 1,
   "nav_menu": {},
   "number_sections": true,
   "sideBar": true,
   "skip_h1_title": false,
   "title_cell": "Table of Contents",
   "title_sidebar": "Contents",
   "toc_cell": false,
   "toc_position": {},
   "toc_section_display": true,
   "toc_window_display": false
  }
 },
 "nbformat": 4,
 "nbformat_minor": 4
}
